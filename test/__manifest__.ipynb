{
 "cells": [
  {
   "cell_type": "code",
   "execution_count": null,
   "metadata": {},
   "outputs": [],
   "source": [
    "# -*- coding: utf-8 -*-\n",
    "{\n",
    "    'name': 'PS Cloud 培训',\n",
    "    'version': '12.0.1.0',\n",
    "    'summary': 'PS Cloud 培训',\n",
    "    'author': \"www.mypscloud.com\",\n",
    "    'website': 'https://www.mypscloud.com/',\n",
    "    'category': 'Tools',\n",
    "    'depends': ['base'],\n",
    "    'data': [\n",
    "        'security/ir.model.access.csv',\n",
    "        'wizard/student_regiester_views.xml',\n",
    "        'views/res_partner_views.xml',\n",
    "        'views/training_lesson_views.xml',\n",
    "        'views/training_subject_views.xml',\n",
    "        'views/training_views.xml',\n",
    "    ],\n",
    "    'demo': [\n",
    "        'demo/pscloud_demo.xml',\n",
    "    ],\n",
    "    'qweb': [],\n",
    "    'js': [],\n",
    "    'css': [],\n",
    "    'auto_install': False,\n",
    "    'application': True,\n",
    "}"
   ]
  }
 ],
 "metadata": {
  "kernelspec": {
   "display_name": "Python 2",
   "language": "python",
   "name": "python2"
  },
  "language_info": {
   "codemirror_mode": {
    "name": "ipython",
    "version": 3
   },
   "file_extension": ".py",
   "mimetype": "text/x-python",
   "name": "python",
   "nbconvert_exporter": "python",
   "pygments_lexer": "ipython3",
   "version": "3.6.5"
  }
 },
 "nbformat": 4,
 "nbformat_minor": 2
}
