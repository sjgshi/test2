{
 "cells": [
  {
   "cell_type": "code",
   "execution_count": null,
   "metadata": {},
   "outputs": [],
   "source": [
    "# -*- coding: utf-8 -*-\n",
    "\n",
    "from odoo import api, fields, models\n",
    "\n",
    "class ResParter(models.Model):\n",
    "    _inherit = 'res.partner'\n",
    "\n",
    "    is_teacher = fields.Boolean(string='老师')\n",
    "    is_student = fields.Boolean(string='学生')\n",
    "\n",
    "#  vim:et:si:sta:ts=4:sts=4:sw=4:tw=79:"
   ]
  }
 ],
 "metadata": {
  "kernelspec": {
   "display_name": "Python 2",
   "language": "python",
   "name": "python2"
  },
  "language_info": {
   "codemirror_mode": {
    "name": "ipython",
    "version": 3
   },
   "file_extension": ".py",
   "mimetype": "text/x-python",
   "name": "python",
   "nbconvert_exporter": "python",
   "pygments_lexer": "ipython3",
   "version": "3.6.5"
  }
 },
 "nbformat": 4,
 "nbformat_minor": 2
}
