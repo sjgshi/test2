{
 "cells": [
  {
   "cell_type": "code",
   "execution_count": null,
   "metadata": {},
   "outputs": [],
   "source": [
    "# -*- coding: utf-8 -*-\n",
    "\n",
    "from odoo import api, fields, models\n",
    "\n",
    "class TrainingSubject(models.Model):\n",
    "    _name = 'pscloud.training.subject'\n",
    "    _description = \"科目\"\n",
    "\n",
    "    name = fields.Char(string='名称')\n",
    "    person_id = fields.Many2one('res.partner', string='负责人')\n",
    "    lesson_ids = fields.One2many('pscloud.training.lesson', 'subject_id', string='课程')\n",
    "    desc = fields.Text(string='描述')\n",
    "\n",
    "#  vim:et:si:sta:ts=4:sts=4:sw=4:tw=79:"
   ]
  }
 ],
 "metadata": {
  "kernelspec": {
   "display_name": "Python 2",
   "language": "python",
   "name": "python2"
  },
  "language_info": {
   "codemirror_mode": {
    "name": "ipython",
    "version": 3
   },
   "file_extension": ".py",
   "mimetype": "text/x-python",
   "name": "python",
   "nbconvert_exporter": "python",
   "pygments_lexer": "ipython3",
   "version": "3.6.5"
  }
 },
 "nbformat": 4,
 "nbformat_minor": 2
}
